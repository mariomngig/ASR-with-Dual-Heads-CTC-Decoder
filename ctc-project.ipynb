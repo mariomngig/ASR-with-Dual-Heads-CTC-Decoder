{
 "cells": [
  {
   "cell_type": "code",
   "execution_count": 1,
   "id": "2bbedc35",
   "metadata": {
    "_cell_guid": "b1076dfc-b9ad-4769-8c92-a6c4dae69d19",
    "_uuid": "8f2839f25d086af736a60e9eeb907d3b93b6e0e5",
    "execution": {
     "iopub.execute_input": "2025-05-12T15:12:59.758202Z",
     "iopub.status.busy": "2025-05-12T15:12:59.757935Z",
     "iopub.status.idle": "2025-05-12T15:13:01.447988Z",
     "shell.execute_reply": "2025-05-12T15:13:01.447211Z"
    },
    "papermill": {
     "duration": 1.696751,
     "end_time": "2025-05-12T15:13:01.449235",
     "exception": false,
     "start_time": "2025-05-12T15:12:59.752484",
     "status": "completed"
    },
    "tags": []
   },
   "outputs": [
    {
     "name": "stdout",
     "output_type": "stream",
     "text": [
      "/kaggle/input/ctc-model-2/checkpoint_epoch_60.pt\n"
     ]
    }
   ],
   "source": [
    "# This Python 3 environment comes with many helpful analytics libraries installed\n",
    "# It is defined by the kaggle/python Docker image: https://github.com/kaggle/docker-python\n",
    "# For example, here's several helpful packages to load\n",
    "\n",
    "import numpy as np # linear algebra\n",
    "import pandas as pd # data processing, CSV file I/O (e.g. pd.read_csv)\n",
    "\n",
    "# Input data files are available in the read-only \"../input/\" directory\n",
    "# For example, running this (by clicking run or pressing Shift+Enter) will list all files under the input directory\n",
    "\n",
    "import os\n",
    "for dirname, _, filenames in os.walk('/kaggle/input'):\n",
    "    for filename in filenames:\n",
    "        print(os.path.join(dirname, filename))\n",
    "\n",
    "# You can write up to 20GB to the current directory (/kaggle/working/) that gets preserved as output when you create a version using \"Save & Run All\" \n",
    "# You can also write temporary files to /kaggle/temp/, but they won't be saved outside of the current session"
   ]
  },
  {
   "cell_type": "code",
   "execution_count": 2,
   "id": "8286e0e4",
   "metadata": {
    "execution": {
     "iopub.execute_input": "2025-05-12T15:13:01.458425Z",
     "iopub.status.busy": "2025-05-12T15:13:01.457661Z",
     "iopub.status.idle": "2025-05-12T15:13:07.717939Z",
     "shell.execute_reply": "2025-05-12T15:13:07.716822Z"
    },
    "papermill": {
     "duration": 6.265919,
     "end_time": "2025-05-12T15:13:07.719229",
     "exception": false,
     "start_time": "2025-05-12T15:13:01.453310",
     "status": "completed"
    },
    "tags": []
   },
   "outputs": [
    {
     "name": "stdout",
     "output_type": "stream",
     "text": [
      "Collecting jiwer\r\n",
      "  Downloading jiwer-3.1.0-py3-none-any.whl.metadata (2.6 kB)\r\n",
      "Requirement already satisfied: click>=8.1.8 in /usr/local/lib/python3.11/dist-packages (from jiwer) (8.1.8)\r\n",
      "Collecting rapidfuzz>=3.9.7 (from jiwer)\r\n",
      "  Downloading rapidfuzz-3.13.0-cp311-cp311-manylinux_2_17_x86_64.manylinux2014_x86_64.whl.metadata (12 kB)\r\n",
      "Downloading jiwer-3.1.0-py3-none-any.whl (22 kB)\r\n",
      "Downloading rapidfuzz-3.13.0-cp311-cp311-manylinux_2_17_x86_64.manylinux2014_x86_64.whl (3.1 MB)\r\n",
      "\u001b[2K   \u001b[90m━━━━━━━━━━━━━━━━━━━━━━━━━━━━━━━━━━━━━━━━\u001b[0m \u001b[32m3.1/3.1 MB\u001b[0m \u001b[31m35.2 MB/s\u001b[0m eta \u001b[36m0:00:00\u001b[0m\r\n",
      "\u001b[?25hInstalling collected packages: rapidfuzz, jiwer\r\n",
      "Successfully installed jiwer-3.1.0 rapidfuzz-3.13.0\r\n",
      "Note: you may need to restart the kernel to use updated packages.\n"
     ]
    }
   ],
   "source": [
    "pip install jiwer"
   ]
  },
  {
   "cell_type": "code",
   "execution_count": 3,
   "id": "31274fd0",
   "metadata": {
    "execution": {
     "iopub.execute_input": "2025-05-12T15:13:07.729104Z",
     "iopub.status.busy": "2025-05-12T15:13:07.728820Z",
     "iopub.status.idle": "2025-05-12T15:17:15.447196Z",
     "shell.execute_reply": "2025-05-12T15:17:15.446101Z"
    },
    "papermill": {
     "duration": 247.725222,
     "end_time": "2025-05-12T15:17:15.448884",
     "exception": false,
     "start_time": "2025-05-12T15:13:07.723662",
     "status": "completed"
    },
    "tags": []
   },
   "outputs": [
    {
     "name": "stdout",
     "output_type": "stream",
     "text": [
      "--2025-05-12 15:13:07--  https://data.keithito.com/data/speech/LJSpeech-1.1.tar.bz2\r\n",
      "Resolving data.keithito.com (data.keithito.com)... 185.93.1.242, 2400:52e0:1a00::1068:1\r\n",
      "Connecting to data.keithito.com (data.keithito.com)|185.93.1.242|:443... connected.\r\n",
      "HTTP request sent, awaiting response... 200 OK\r\n",
      "Length: 2748572632 (2.6G) [text/plain]\r\n",
      "Saving to: ‘LJSpeech-1.1.tar.bz2’\r\n",
      "\r\n",
      "LJSpeech-1.1.tar.bz 100%[===================>]   2.56G   242MB/s    in 11s     \r\n",
      "\r\n",
      "2025-05-12 15:13:19 (234 MB/s) - ‘LJSpeech-1.1.tar.bz2’ saved [2748572632/2748572632]\r\n",
      "\r\n"
     ]
    }
   ],
   "source": [
    "!wget https://data.keithito.com/data/speech/LJSpeech-1.1.tar.bz2\n",
    "!tar -xvjf LJSpeech-1.1.tar.bz2 > /dev/null 2>&1"
   ]
  },
  {
   "cell_type": "code",
   "execution_count": 4,
   "id": "de661773",
   "metadata": {
    "execution": {
     "iopub.execute_input": "2025-05-12T15:17:15.464042Z",
     "iopub.status.busy": "2025-05-12T15:17:15.463447Z",
     "iopub.status.idle": "2025-05-12T15:17:15.559966Z",
     "shell.execute_reply": "2025-05-12T15:17:15.559208Z"
    },
    "papermill": {
     "duration": 0.104931,
     "end_time": "2025-05-12T15:17:15.561123",
     "exception": false,
     "start_time": "2025-05-12T15:17:15.456192",
     "status": "completed"
    },
    "tags": []
   },
   "outputs": [
    {
     "data": {
      "text/html": [
       "<div>\n",
       "<style scoped>\n",
       "    .dataframe tbody tr th:only-of-type {\n",
       "        vertical-align: middle;\n",
       "    }\n",
       "\n",
       "    .dataframe tbody tr th {\n",
       "        vertical-align: top;\n",
       "    }\n",
       "\n",
       "    .dataframe thead th {\n",
       "        text-align: right;\n",
       "    }\n",
       "</style>\n",
       "<table border=\"1\" class=\"dataframe\">\n",
       "  <thead>\n",
       "    <tr style=\"text-align: right;\">\n",
       "      <th></th>\n",
       "      <th>wav</th>\n",
       "      <th>text</th>\n",
       "    </tr>\n",
       "  </thead>\n",
       "  <tbody>\n",
       "    <tr>\n",
       "      <th>0</th>\n",
       "      <td>LJ001-0001</td>\n",
       "      <td>Printing, in the only sense with which we are ...</td>\n",
       "    </tr>\n",
       "    <tr>\n",
       "      <th>1</th>\n",
       "      <td>LJ001-0002</td>\n",
       "      <td>in being comparatively modern.</td>\n",
       "    </tr>\n",
       "    <tr>\n",
       "      <th>2</th>\n",
       "      <td>LJ001-0003</td>\n",
       "      <td>For although the Chinese took impressions from...</td>\n",
       "    </tr>\n",
       "  </tbody>\n",
       "</table>\n",
       "</div>"
      ],
      "text/plain": [
       "          wav                                               text\n",
       "0  LJ001-0001  Printing, in the only sense with which we are ...\n",
       "1  LJ001-0002                     in being comparatively modern.\n",
       "2  LJ001-0003  For although the Chinese took impressions from..."
      ]
     },
     "execution_count": 4,
     "metadata": {},
     "output_type": "execute_result"
    }
   ],
   "source": [
    "import pandas as pd\n",
    "df = pd.read_csv(\"/kaggle/working/LJSpeech-1.1/metadata.csv\",  delimiter=\"|\", \n",
    "                 header=None, names=[\"wav\", \"drop\", \"text\"]).drop(columns=[\"drop\"]).dropna()\n",
    "df.head(3)"
   ]
  },
  {
   "cell_type": "code",
   "execution_count": 5,
   "id": "98b9c067",
   "metadata": {
    "execution": {
     "iopub.execute_input": "2025-05-12T15:17:15.574677Z",
     "iopub.status.busy": "2025-05-12T15:17:15.574461Z",
     "iopub.status.idle": "2025-05-12T15:17:15.585220Z",
     "shell.execute_reply": "2025-05-12T15:17:15.584653Z"
    },
    "papermill": {
     "duration": 0.01865,
     "end_time": "2025-05-12T15:17:15.586322",
     "exception": false,
     "start_time": "2025-05-12T15:17:15.567672",
     "status": "completed"
    },
    "tags": []
   },
   "outputs": [
    {
     "data": {
      "text/html": [
       "<div>\n",
       "<style scoped>\n",
       "    .dataframe tbody tr th:only-of-type {\n",
       "        vertical-align: middle;\n",
       "    }\n",
       "\n",
       "    .dataframe tbody tr th {\n",
       "        vertical-align: top;\n",
       "    }\n",
       "\n",
       "    .dataframe thead th {\n",
       "        text-align: right;\n",
       "    }\n",
       "</style>\n",
       "<table border=\"1\" class=\"dataframe\">\n",
       "  <thead>\n",
       "    <tr style=\"text-align: right;\">\n",
       "      <th></th>\n",
       "      <th>wav</th>\n",
       "      <th>text</th>\n",
       "      <th>file_path</th>\n",
       "    </tr>\n",
       "  </thead>\n",
       "  <tbody>\n",
       "    <tr>\n",
       "      <th>0</th>\n",
       "      <td>LJ001-0001</td>\n",
       "      <td>Printing, in the only sense with which we are ...</td>\n",
       "      <td>/kaggle/working/LJSpeech-1.1/wavs/LJ001-0001.wav</td>\n",
       "    </tr>\n",
       "  </tbody>\n",
       "</table>\n",
       "</div>"
      ],
      "text/plain": [
       "          wav                                               text  \\\n",
       "0  LJ001-0001  Printing, in the only sense with which we are ...   \n",
       "\n",
       "                                          file_path  \n",
       "0  /kaggle/working/LJSpeech-1.1/wavs/LJ001-0001.wav  "
      ]
     },
     "execution_count": 5,
     "metadata": {},
     "output_type": "execute_result"
    }
   ],
   "source": [
    "# Apply lambda function to create the new file path\n",
    "df['file_path'] = df['wav'].apply(lambda x: f\"/kaggle/working/LJSpeech-1.1/wavs/{x}.wav\")\n",
    "df.head(1)"
   ]
  },
  {
   "cell_type": "code",
   "execution_count": 6,
   "id": "9a7effac",
   "metadata": {
    "execution": {
     "iopub.execute_input": "2025-05-12T15:17:15.601654Z",
     "iopub.status.busy": "2025-05-12T15:17:15.601483Z",
     "iopub.status.idle": "2025-05-12T15:17:15.605999Z",
     "shell.execute_reply": "2025-05-12T15:17:15.605319Z"
    },
    "papermill": {
     "duration": 0.012993,
     "end_time": "2025-05-12T15:17:15.607017",
     "exception": false,
     "start_time": "2025-05-12T15:17:15.594024",
     "status": "completed"
    },
    "tags": []
   },
   "outputs": [],
   "source": [
    "# Reorder columns to make 'file_path' the first column\n",
    "df = df[['file_path'] + [col for col in df.columns if col != 'file_path']]"
   ]
  },
  {
   "cell_type": "code",
   "execution_count": 7,
   "id": "f9556f40",
   "metadata": {
    "execution": {
     "iopub.execute_input": "2025-05-12T15:17:15.620591Z",
     "iopub.status.busy": "2025-05-12T15:17:15.620382Z",
     "iopub.status.idle": "2025-05-12T15:17:15.627807Z",
     "shell.execute_reply": "2025-05-12T15:17:15.627308Z"
    },
    "papermill": {
     "duration": 0.015485,
     "end_time": "2025-05-12T15:17:15.628785",
     "exception": false,
     "start_time": "2025-05-12T15:17:15.613300",
     "status": "completed"
    },
    "tags": []
   },
   "outputs": [
    {
     "data": {
      "text/html": [
       "<div>\n",
       "<style scoped>\n",
       "    .dataframe tbody tr th:only-of-type {\n",
       "        vertical-align: middle;\n",
       "    }\n",
       "\n",
       "    .dataframe tbody tr th {\n",
       "        vertical-align: top;\n",
       "    }\n",
       "\n",
       "    .dataframe thead th {\n",
       "        text-align: right;\n",
       "    }\n",
       "</style>\n",
       "<table border=\"1\" class=\"dataframe\">\n",
       "  <thead>\n",
       "    <tr style=\"text-align: right;\">\n",
       "      <th></th>\n",
       "      <th>file_path</th>\n",
       "      <th>text</th>\n",
       "    </tr>\n",
       "  </thead>\n",
       "  <tbody>\n",
       "    <tr>\n",
       "      <th>0</th>\n",
       "      <td>/kaggle/working/LJSpeech-1.1/wavs/LJ001-0001.wav</td>\n",
       "      <td>Printing, in the only sense with which we are ...</td>\n",
       "    </tr>\n",
       "    <tr>\n",
       "      <th>1</th>\n",
       "      <td>/kaggle/working/LJSpeech-1.1/wavs/LJ001-0002.wav</td>\n",
       "      <td>in being comparatively modern.</td>\n",
       "    </tr>\n",
       "    <tr>\n",
       "      <th>2</th>\n",
       "      <td>/kaggle/working/LJSpeech-1.1/wavs/LJ001-0003.wav</td>\n",
       "      <td>For although the Chinese took impressions from...</td>\n",
       "    </tr>\n",
       "  </tbody>\n",
       "</table>\n",
       "</div>"
      ],
      "text/plain": [
       "                                          file_path  \\\n",
       "0  /kaggle/working/LJSpeech-1.1/wavs/LJ001-0001.wav   \n",
       "1  /kaggle/working/LJSpeech-1.1/wavs/LJ001-0002.wav   \n",
       "2  /kaggle/working/LJSpeech-1.1/wavs/LJ001-0003.wav   \n",
       "\n",
       "                                                text  \n",
       "0  Printing, in the only sense with which we are ...  \n",
       "1                     in being comparatively modern.  \n",
       "2  For although the Chinese took impressions from...  "
      ]
     },
     "execution_count": 7,
     "metadata": {},
     "output_type": "execute_result"
    }
   ],
   "source": [
    "df.drop(columns=[\"wav\"], inplace=True)\n",
    "df.head(3)"
   ]
  },
  {
   "cell_type": "code",
   "execution_count": 8,
   "id": "7fedd21c",
   "metadata": {
    "execution": {
     "iopub.execute_input": "2025-05-12T15:17:15.642894Z",
     "iopub.status.busy": "2025-05-12T15:17:15.642089Z",
     "iopub.status.idle": "2025-05-12T15:17:15.660429Z",
     "shell.execute_reply": "2025-05-12T15:17:15.659876Z"
    },
    "papermill": {
     "duration": 0.029719,
     "end_time": "2025-05-12T15:17:15.664974",
     "exception": false,
     "start_time": "2025-05-12T15:17:15.635255",
     "status": "completed"
    },
    "tags": []
   },
   "outputs": [
    {
     "name": "stdout",
     "output_type": "stream",
     "text": [
      "produced the block books, which were the immediate predecessors of the true printed book,\n"
     ]
    },
    {
     "data": {
      "text/html": [
       "\n",
       "                <audio  controls=\"controls\" >\n",
       "                    <source src=\"data:audio/x-wav;base64,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\" type=\"audio/x-wav\" />\n",
       "                    Your browser does not support the audio element.\n",
       "                </audio>\n",
       "              "
      ],
      "text/plain": [
       "<IPython.lib.display.Audio object>"
      ]
     },
     "execution_count": 8,
     "metadata": {},
     "output_type": "execute_result"
    }
   ],
   "source": [
    "from IPython.display import Audio\n",
    "\n",
    "print(df[\"text\"][3])\n",
    "\n",
    "# Access the first audio file path\n",
    "audio_path = df[\"file_path\"][3]\n",
    "\n",
    "# Use the 'filename' parameter to pass the file path\n",
    "Audio(filename=audio_path, rate=10000)"
   ]
  },
  {
   "cell_type": "code",
   "execution_count": 9,
   "id": "30a884b5",
   "metadata": {
    "execution": {
     "iopub.execute_input": "2025-05-12T15:17:15.687391Z",
     "iopub.status.busy": "2025-05-12T15:17:15.687222Z",
     "iopub.status.idle": "2025-05-12T15:17:21.690908Z",
     "shell.execute_reply": "2025-05-12T15:17:21.690303Z"
    },
    "papermill": {
     "duration": 6.016357,
     "end_time": "2025-05-12T15:17:21.692251",
     "exception": false,
     "start_time": "2025-05-12T15:17:15.675894",
     "status": "completed"
    },
    "tags": []
   },
   "outputs": [],
   "source": [
    "import torch\n",
    "from torch.utils.data import Dataset, DataLoader\n",
    "import torchaudio\n",
    "import torchaudio.transforms as T\n",
    "import pandas as pd\n",
    "import string"
   ]
  },
  {
   "cell_type": "code",
   "execution_count": 10,
   "id": "13ccad92",
   "metadata": {
    "execution": {
     "iopub.execute_input": "2025-05-12T15:17:21.715708Z",
     "iopub.status.busy": "2025-05-12T15:17:21.715402Z",
     "iopub.status.idle": "2025-05-12T15:17:21.720795Z",
     "shell.execute_reply": "2025-05-12T15:17:21.720118Z"
    },
    "papermill": {
     "duration": 0.017973,
     "end_time": "2025-05-12T15:17:21.721814",
     "exception": false,
     "start_time": "2025-05-12T15:17:21.703841",
     "status": "completed"
    },
    "tags": []
   },
   "outputs": [],
   "source": [
    "# --- Tokenizer Class ---\n",
    "class TextTokenizerCTC:\n",
    "    def __init__(self):\n",
    "        chars = list(string.ascii_lowercase + \" ',.!?-:;\")\n",
    "        self.blank_token = \"_\"\n",
    "        self.char_to_id = {c: i + 1 for i, c in enumerate(chars)}  # 0 is reserved for CTC blank\n",
    "        self.char_to_id[self.blank_token] = 0\n",
    "        self.id_to_char = {v: k for k, v in self.char_to_id.items()}\n",
    "\n",
    "    def normalize(self, text):\n",
    "        return text.lower().strip()\n",
    "\n",
    "    def encode(self, text):\n",
    "        text = self.normalize(text)\n",
    "        return [self.char_to_id[c] for c in text if c in self.char_to_id]\n",
    "\n",
    "    def decode(self, ids):\n",
    "        return ''.join([self.id_to_char[i] for i in ids])"
   ]
  },
  {
   "cell_type": "code",
   "execution_count": 11,
   "id": "ff2cc5e2",
   "metadata": {
    "execution": {
     "iopub.execute_input": "2025-05-12T15:17:21.745403Z",
     "iopub.status.busy": "2025-05-12T15:17:21.745190Z",
     "iopub.status.idle": "2025-05-12T15:17:21.750730Z",
     "shell.execute_reply": "2025-05-12T15:17:21.750094Z"
    },
    "papermill": {
     "duration": 0.018594,
     "end_time": "2025-05-12T15:17:21.751751",
     "exception": false,
     "start_time": "2025-05-12T15:17:21.733157",
     "status": "completed"
    },
    "tags": []
   },
   "outputs": [],
   "source": [
    "class LJSpeechCTCDataset(Dataset):\n",
    "    def __init__(self, dataframe, sample_rate=16000, n_mels=80):\n",
    "        self.df = dataframe.reset_index(drop=True)  # <- ensures clean integer indexing\n",
    "        self.sample_rate = sample_rate\n",
    "        self.tokenizer = TextTokenizerCTC()\n",
    "\n",
    "        self.audio_transform = torch.nn.Sequential(\n",
    "            T.Resample(orig_freq=22050, new_freq=sample_rate),\n",
    "            T.MelSpectrogram(sample_rate=sample_rate, n_mels=n_mels),\n",
    "            T.AmplitudeToDB()\n",
    "        )\n",
    "\n",
    "    def __len__(self):\n",
    "        return len(self.df)\n",
    "\n",
    "    def preprocess_audio(self, file_path):\n",
    "        waveform, sample_rate = torchaudio.load(file_path)\n",
    "        if sample_rate != self.sample_rate:\n",
    "            waveform = T.Resample(orig_freq=sample_rate, new_freq=self.sample_rate)(waveform)\n",
    "        mel_spec = self.audio_transform(waveform)\n",
    "        return mel_spec.squeeze(0).transpose(0, 1)  # [time, n_mels]\n",
    "\n",
    "    def __getitem__(self, idx):\n",
    "        row = self.df.iloc[idx]\n",
    "        mel = self.preprocess_audio(row[\"file_path\"])\n",
    "        token_ids = self.tokenizer.encode(row[\"text\"])\n",
    "        return mel, torch.tensor(token_ids, dtype=torch.long)"
   ]
  },
  {
   "cell_type": "code",
   "execution_count": 12,
   "id": "78bed2ce",
   "metadata": {
    "execution": {
     "iopub.execute_input": "2025-05-12T15:17:21.774740Z",
     "iopub.status.busy": "2025-05-12T15:17:21.774564Z",
     "iopub.status.idle": "2025-05-12T15:17:21.778555Z",
     "shell.execute_reply": "2025-05-12T15:17:21.778088Z"
    },
    "papermill": {
     "duration": 0.016786,
     "end_time": "2025-05-12T15:17:21.779558",
     "exception": false,
     "start_time": "2025-05-12T15:17:21.762772",
     "status": "completed"
    },
    "tags": []
   },
   "outputs": [],
   "source": [
    "# --- Collate Function for Padding ---\n",
    "def collate_fn(batch):\n",
    "    # Unpack mel and token_ids\n",
    "    mels, labels = zip(*batch)\n",
    "\n",
    "    # Pad mel features\n",
    "    mel_lengths = [m.shape[0] for m in mels]\n",
    "    mel_padded = torch.nn.utils.rnn.pad_sequence(mels, batch_first=True)  # [B, T, n_mels]\n",
    "\n",
    "    # Pad token ids\n",
    "    label_lengths = [len(l) for l in labels]\n",
    "    label_padded = torch.nn.utils.rnn.pad_sequence(labels, batch_first=True, padding_value=0)\n",
    "\n",
    "    return mel_padded, torch.tensor(mel_lengths), label_padded, torch.tensor(label_lengths)"
   ]
  },
  {
   "cell_type": "code",
   "execution_count": 13,
   "id": "57fa0d9b",
   "metadata": {
    "execution": {
     "iopub.execute_input": "2025-05-12T15:17:21.803192Z",
     "iopub.status.busy": "2025-05-12T15:17:21.802732Z",
     "iopub.status.idle": "2025-05-12T15:17:23.864490Z",
     "shell.execute_reply": "2025-05-12T15:17:23.863872Z"
    },
    "papermill": {
     "duration": 2.077239,
     "end_time": "2025-05-12T15:17:23.867777",
     "exception": false,
     "start_time": "2025-05-12T15:17:21.790538",
     "status": "completed"
    },
    "tags": []
   },
   "outputs": [
    {
     "name": "stdout",
     "output_type": "stream",
     "text": [
      "Mel batch shape: torch.Size([64, 586, 80])\n",
      "Label batch shape: torch.Size([64, 165])\n"
     ]
    }
   ],
   "source": [
    "dataset = LJSpeechCTCDataset(df)\n",
    "dataloader = DataLoader(dataset, batch_size=64, shuffle=True, collate_fn=collate_fn)\n",
    "\n",
    "# --- Example Usage ---\n",
    "for batch in dataloader:\n",
    "    mel_batch, mel_lengths, label_batch, label_lengths = batch\n",
    "    print(\"Mel batch shape:\", mel_batch.shape)         # [B, T, n_mels]\n",
    "    print(\"Label batch shape:\", label_batch.shape)     # [B, L]\n",
    "    break"
   ]
  },
  {
   "cell_type": "code",
   "execution_count": 14,
   "id": "dce125fd",
   "metadata": {
    "execution": {
     "iopub.execute_input": "2025-05-12T15:17:23.904921Z",
     "iopub.status.busy": "2025-05-12T15:17:23.904611Z",
     "iopub.status.idle": "2025-05-12T15:17:23.909855Z",
     "shell.execute_reply": "2025-05-12T15:17:23.909286Z"
    },
    "papermill": {
     "duration": 0.024061,
     "end_time": "2025-05-12T15:17:23.911378",
     "exception": false,
     "start_time": "2025-05-12T15:17:23.887317",
     "status": "completed"
    },
    "tags": []
   },
   "outputs": [],
   "source": [
    "# Assuming you have a full dataset object `dataset`\n",
    "small_dataset = torch.utils.data.Subset(dataset, list(range(50)))\n",
    "small_loader = DataLoader(small_dataset, batch_size=2, collate_fn=collate_fn)"
   ]
  },
  {
   "cell_type": "code",
   "execution_count": 15,
   "id": "d3734330",
   "metadata": {
    "execution": {
     "iopub.execute_input": "2025-05-12T15:17:23.942655Z",
     "iopub.status.busy": "2025-05-12T15:17:23.942064Z",
     "iopub.status.idle": "2025-05-12T15:17:23.949234Z",
     "shell.execute_reply": "2025-05-12T15:17:23.948610Z"
    },
    "papermill": {
     "duration": 0.021627,
     "end_time": "2025-05-12T15:17:23.950351",
     "exception": false,
     "start_time": "2025-05-12T15:17:23.928724",
     "status": "completed"
    },
    "tags": []
   },
   "outputs": [],
   "source": [
    "# --- Updated Tokenizer Class (keep this the same) ---\n",
    "class TextTokenizerCTC:\n",
    "    def __init__(self):\n",
    "        chars = list(string.ascii_lowercase + \" ',.!?-:;\")\n",
    "        self.blank_token = \"_\"\n",
    "        self.char_to_id = {c: i + 1 for i, c in enumerate(chars)}  # 0 is reserved for CTC blank\n",
    "        self.char_to_id[self.blank_token] = 0\n",
    "        self.id_to_char = {v: k for k, v in self.char_to_id.items()}\n",
    "\n",
    "    def normalize(self, text):\n",
    "        return text.lower().strip()\n",
    "\n",
    "    def encode(self, text):\n",
    "        text = self.normalize(text)\n",
    "        return [self.char_to_id[c] for c in text if c in self.char_to_id]\n",
    "\n",
    "    def decode(self, ids):\n",
    "        return ''.join([self.id_to_char[i] for i in ids if i != 0])"
   ]
  },
  {
   "cell_type": "code",
   "execution_count": 16,
   "id": "0f073f2a",
   "metadata": {
    "execution": {
     "iopub.execute_input": "2025-05-12T15:17:23.974299Z",
     "iopub.status.busy": "2025-05-12T15:17:23.973704Z",
     "iopub.status.idle": "2025-05-12T15:17:23.980886Z",
     "shell.execute_reply": "2025-05-12T15:17:23.980166Z"
    },
    "papermill": {
     "duration": 0.020711,
     "end_time": "2025-05-12T15:17:23.982439",
     "exception": false,
     "start_time": "2025-05-12T15:17:23.961728",
     "status": "completed"
    },
    "tags": []
   },
   "outputs": [],
   "source": [
    "import torch\n",
    "import torch.nn as nn\n",
    "import math\n",
    "# --- Updated Positional Encoding ---\n",
    "class PositionalEncoding(nn.Module):\n",
    "    def __init__(self, d_model, dropout=0.1, max_len=5000):\n",
    "        super().__init__()\n",
    "        self.dropout = nn.Dropout(p=dropout)\n",
    "        position = torch.arange(max_len).unsqueeze(1)\n",
    "        div_term = torch.exp(torch.arange(0, d_model, 2) * (-math.log(10000.0) / d_model))\n",
    "        pe = torch.zeros(max_len, 1, d_model)\n",
    "        pe[:, 0, 0::2] = torch.sin(position * div_term)\n",
    "        pe[:, 0, 1::2] = torch.cos(position * div_term)\n",
    "        self.register_buffer('pe', pe)\n",
    "\n",
    "    def forward(self, x):\n",
    "        x = x + self.pe[:x.size(0)]\n",
    "        return self.dropout(x)"
   ]
  },
  {
   "cell_type": "code",
   "execution_count": 17,
   "id": "e6e4dada",
   "metadata": {
    "execution": {
     "iopub.execute_input": "2025-05-12T15:17:24.005534Z",
     "iopub.status.busy": "2025-05-12T15:17:24.005329Z",
     "iopub.status.idle": "2025-05-12T15:17:24.105974Z",
     "shell.execute_reply": "2025-05-12T15:17:24.105330Z"
    },
    "papermill": {
     "duration": 0.113691,
     "end_time": "2025-05-12T15:17:24.107110",
     "exception": false,
     "start_time": "2025-05-12T15:17:23.993419",
     "status": "completed"
    },
    "tags": []
   },
   "outputs": [],
   "source": [
    "# --- Updated Transformer Model with Aggressive Decoder ---\n",
    "class TransformerDualHead(nn.Module):\n",
    "    def __init__(self, input_dim, vocab_size, d_model=512, nhead=8, num_layers=6, dim_feedforward=2048, dropout=0.1):\n",
    "        super().__init__()\n",
    "        self.token_pad_idx = 0\n",
    "        self.d_model = d_model\n",
    "\n",
    "        # --- Encoder ---\n",
    "        self.input_fc = nn.Linear(input_dim, d_model)\n",
    "        self.pos_encoder = PositionalEncoding(d_model, dropout)\n",
    "\n",
    "        encoder_layer = nn.TransformerEncoderLayer(\n",
    "            d_model=d_model,\n",
    "            nhead=nhead,\n",
    "            dim_feedforward=dim_feedforward,\n",
    "            dropout=dropout,\n",
    "            batch_first=False  # Changed to (T, B, D) format for consistency\n",
    "        )\n",
    "        self.encoder = nn.TransformerEncoder(encoder_layer, num_layers=num_layers)\n",
    "\n",
    "        # --- CTC Head (unchanged) ---\n",
    "        self.ctc_fc = nn.Linear(d_model, vocab_size)\n",
    "        self.log_softmax = nn.LogSoftmax(dim=-1)\n",
    "\n",
    "        # --- Aggressive Decoder from Second Notebook ---\n",
    "        self.token_embedding = nn.Embedding(vocab_size, d_model, padding_idx=self.token_pad_idx)\n",
    "        self.pos_decoder = PositionalEncoding(d_model, dropout)\n",
    "        \n",
    "        decoder_layer = nn.TransformerDecoderLayer(\n",
    "            d_model=d_model,\n",
    "            nhead=nhead,\n",
    "            dim_feedforward=dim_feedforward,\n",
    "            dropout=dropout,\n",
    "            batch_first=False\n",
    "        )\n",
    "        self.decoder = nn.TransformerDecoder(decoder_layer, num_layers=num_layers)\n",
    "        self.lm_head = nn.Linear(d_model, vocab_size)\n",
    "\n",
    "    def forward(self, x, tgt_seq=None, src_key_padding_mask=None, tgt_key_padding_mask=None):\n",
    "        # --- Encoder ---\n",
    "        x = x.permute(1, 0, 2)  # Change to (T, B, D) format\n",
    "        x = self.input_fc(x)\n",
    "        x = self.pos_encoder(x)\n",
    "        memory = self.encoder(x, src_key_padding_mask=src_key_padding_mask)  # [T, B, D]\n",
    "\n",
    "        # --- CTC Output ---\n",
    "        ctc_logits = self.log_softmax(self.ctc_fc(memory))  # [T, B, vocab]\n",
    "\n",
    "        decoder_logits = None\n",
    "        if tgt_seq is not None:\n",
    "            # Shift tgt for teacher forcing: input: [B, T] => [B, T-1]\n",
    "            tgt_in = tgt_seq[:, :-1]\n",
    "            tgt_in = tgt_in.permute(1, 0)  # [L, B]\n",
    "            \n",
    "            tgt_embed = self.token_embedding(tgt_in) * math.sqrt(self.d_model)\n",
    "            tgt_embed = self.pos_decoder(tgt_embed)\n",
    "\n",
    "            # Generate look-ahead mask for causal decoding\n",
    "            tgt_mask = self.generate_square_subsequent_mask(tgt_in.size(0)).to(x.device)\n",
    "\n",
    "            # Decode\n",
    "            decoder_out = self.decoder(\n",
    "                tgt=tgt_embed,\n",
    "                memory=memory,\n",
    "                tgt_mask=tgt_mask,\n",
    "                tgt_key_padding_mask=tgt_key_padding_mask,\n",
    "                memory_key_padding_mask=src_key_padding_mask\n",
    "            )\n",
    "            decoder_logits = self.lm_head(decoder_out)  # [L, B, vocab]\n",
    "            decoder_logits = decoder_logits.permute(1, 0, 2)  # Back to [B, L, vocab]\n",
    "\n",
    "        return ctc_logits.permute(1, 0, 2), decoder_logits  # Return CTC as [B, T, vocab]\n",
    "\n",
    "    @staticmethod\n",
    "    def generate_square_subsequent_mask(sz):\n",
    "        return torch.triu(torch.full((sz, sz), float('-inf')), diagonal=1)"
   ]
  },
  {
   "cell_type": "code",
   "execution_count": 18,
   "id": "8f153bf0",
   "metadata": {
    "execution": {
     "iopub.execute_input": "2025-05-12T15:17:24.131800Z",
     "iopub.status.busy": "2025-05-12T15:17:24.131303Z",
     "iopub.status.idle": "2025-05-12T15:17:34.273033Z",
     "shell.execute_reply": "2025-05-12T15:17:34.272154Z"
    },
    "papermill": {
     "duration": 10.154978,
     "end_time": "2025-05-12T15:17:34.274143",
     "exception": false,
     "start_time": "2025-05-12T15:17:24.119165",
     "status": "completed"
    },
    "tags": []
   },
   "outputs": [
    {
     "name": "stderr",
     "output_type": "stream",
     "text": [
      "/usr/local/lib/python3.11/dist-packages/torch/nn/modules/transformer.py:379: UserWarning: enable_nested_tensor is True, but self.use_nested_tensor is False because encoder_layer.self_attn.batch_first was not True(use batch_first for better inference performance)\n",
      "  warnings.warn(\n",
      "/tmp/ipykernel_19/2178976829.py:30: FutureWarning: You are using `torch.load` with `weights_only=False` (the current default value), which uses the default pickle module implicitly. It is possible to construct malicious pickle data which will execute arbitrary code during unpickling (See https://github.com/pytorch/pytorch/blob/main/SECURITY.md#untrusted-models for more details). In a future release, the default value for `weights_only` will be flipped to `True`. This limits the functions that could be executed during unpickling. Arbitrary objects will no longer be allowed to be loaded via this mode unless they are explicitly allowlisted by the user via `torch.serialization.add_safe_globals`. We recommend you start setting `weights_only=True` for any use case where you don't have full control of the loaded file. Please open an issue on GitHub for any issues related to this experimental feature.\n",
      "  checkpoint = torch.load(checkpoint_path)\n"
     ]
    },
    {
     "name": "stdout",
     "output_type": "stream",
     "text": [
      "Loaded checkpoint from epoch 60 with loss 1.0141\n"
     ]
    }
   ],
   "source": [
    "# --- Updated Training Setup ---\n",
    "device = torch.device(\"cuda\" if torch.cuda.is_available() else \"cpu\")\n",
    "tokenizer = TextTokenizerCTC()\n",
    "vocab_size = len(tokenizer.char_to_id)\n",
    "\n",
    "# Initialize with more aggressive parameters\n",
    "model = TransformerDualHead(\n",
    "    input_dim=80, \n",
    "    vocab_size=vocab_size,\n",
    "    d_model=512,\n",
    "    nhead=8,\n",
    "    num_layers=6,\n",
    "    dim_feedforward=2048,\n",
    "    dropout=0.1\n",
    ").to(device)\n",
    "\n",
    "# Differential learning rates as in second notebook\n",
    "optimizer = torch.optim.Adam([\n",
    "    {'params': model.encoder.parameters(), 'lr': 1e-4},\n",
    "    {'params': model.ctc_fc.parameters(), 'lr': 1e-4},\n",
    "    {'params': model.decoder.parameters(), 'lr': 1e-4},\n",
    "    {'params': model.lm_head.parameters(), 'lr': 1e-4}\n",
    "])\n",
    "\n",
    "ctc_loss_fn = nn.CTCLoss(blank=0, zero_infinity=True)\n",
    "ce_loss_fn = nn.CrossEntropyLoss(ignore_index=0)\n",
    "\n",
    "checkpoint_path = \"/kaggle/input/ctc-model-2/checkpoint_epoch_60.pt\"  \n",
    "\n",
    "checkpoint = torch.load(checkpoint_path)\n",
    "model.load_state_dict(checkpoint['model_state_dict'])\n",
    "optimizer.load_state_dict(checkpoint['optimizer_state_dict'])\n",
    "start_epoch = checkpoint['epoch']\n",
    "best_loss = checkpoint['loss']\n",
    "print(f\"Loaded checkpoint from epoch {start_epoch} with loss {best_loss:.4f}\")\n",
    "device = torch.device(\"cuda\" if torch.cuda.is_available() else \"cpu\")\n",
    "model = model.to(device)"
   ]
  },
  {
   "cell_type": "code",
   "execution_count": 19,
   "id": "996c16f9",
   "metadata": {
    "execution": {
     "iopub.execute_input": "2025-05-12T15:17:34.298719Z",
     "iopub.status.busy": "2025-05-12T15:17:34.298401Z",
     "iopub.status.idle": "2025-05-12T22:42:14.926856Z",
     "shell.execute_reply": "2025-05-12T22:42:14.926090Z"
    },
    "papermill": {
     "duration": 26680.641809,
     "end_time": "2025-05-12T22:42:14.928098",
     "exception": false,
     "start_time": "2025-05-12T15:17:34.286289",
     "status": "completed"
    },
    "tags": []
   },
   "outputs": [
    {
     "name": "stderr",
     "output_type": "stream",
     "text": [
      "                                                                                               \r"
     ]
    },
    {
     "name": "stdout",
     "output_type": "stream",
     "text": [
      "Epoch 61/90 | CTC Loss: 0.7696 | CE Loss: 0.1649 | Epoch Time: 0h 14m 32s | Elapsed: 0h 14m 32s | Remaining: 7h 1m 39s\n"
     ]
    },
    {
     "name": "stderr",
     "output_type": "stream",
     "text": [
      "                                                                                               \r"
     ]
    },
    {
     "name": "stdout",
     "output_type": "stream",
     "text": [
      "Epoch 62/90 | CTC Loss: 0.7578 | CE Loss: 0.1594 | Epoch Time: 0h 14m 50s | Elapsed: 0h 29m 23s | Remaining: 6h 55m 45s\n"
     ]
    },
    {
     "name": "stderr",
     "output_type": "stream",
     "text": [
      "                                                                                               \r"
     ]
    },
    {
     "name": "stdout",
     "output_type": "stream",
     "text": [
      "Epoch 63/90 | CTC Loss: 0.7455 | CE Loss: 0.1532 | Epoch Time: 0h 14m 46s | Elapsed: 0h 44m 9s | Remaining: 6h 38m 50s\n"
     ]
    },
    {
     "name": "stderr",
     "output_type": "stream",
     "text": [
      "                                                                                               \r"
     ]
    },
    {
     "name": "stdout",
     "output_type": "stream",
     "text": [
      "Epoch 64/90 | CTC Loss: 0.7356 | CE Loss: 0.1485 | Epoch Time: 0h 14m 49s | Elapsed: 0h 58m 58s | Remaining: 6h 25m 20s\n"
     ]
    },
    {
     "name": "stderr",
     "output_type": "stream",
     "text": [
      "                                                                                               \r"
     ]
    },
    {
     "name": "stdout",
     "output_type": "stream",
     "text": [
      "Epoch 65/90 | CTC Loss: 0.7230 | CE Loss: 0.1420 | Epoch Time: 0h 14m 46s | Elapsed: 1h 13m 45s | Remaining: 6h 9m 14s\n"
     ]
    },
    {
     "name": "stderr",
     "output_type": "stream",
     "text": [
      "                                                                                               \r"
     ]
    },
    {
     "name": "stdout",
     "output_type": "stream",
     "text": [
      "Epoch 66/90 | CTC Loss: 0.7134 | CE Loss: 0.1388 | Epoch Time: 0h 14m 46s | Elapsed: 1h 28m 31s | Remaining: 5h 54m 37s\n"
     ]
    },
    {
     "name": "stderr",
     "output_type": "stream",
     "text": [
      "                                                                                               \r"
     ]
    },
    {
     "name": "stdout",
     "output_type": "stream",
     "text": [
      "Epoch 67/90 | CTC Loss: 0.7011 | CE Loss: 0.1326 | Epoch Time: 0h 14m 46s | Elapsed: 1h 43m 18s | Remaining: 5h 40m 0s\n"
     ]
    },
    {
     "name": "stderr",
     "output_type": "stream",
     "text": [
      "                                                                                               \r"
     ]
    },
    {
     "name": "stdout",
     "output_type": "stream",
     "text": [
      "Epoch 68/90 | CTC Loss: 0.6907 | CE Loss: 0.1288 | Epoch Time: 0h 14m 49s | Elapsed: 1h 58m 8s | Remaining: 5h 26m 12s\n"
     ]
    },
    {
     "name": "stderr",
     "output_type": "stream",
     "text": [
      "                                                                                               \r"
     ]
    },
    {
     "name": "stdout",
     "output_type": "stream",
     "text": [
      "Epoch 69/90 | CTC Loss: 0.6784 | CE Loss: 0.1227 | Epoch Time: 0h 14m 51s | Elapsed: 2h 12m 59s | Remaining: 5h 11m 57s\n"
     ]
    },
    {
     "name": "stderr",
     "output_type": "stream",
     "text": [
      "                                                                                               \r"
     ]
    },
    {
     "name": "stdout",
     "output_type": "stream",
     "text": [
      "Saved checkpoint to /kaggle/working/checkpoints/checkpoint_epoch_70.pt\n",
      "Epoch 70/90 | CTC Loss: 0.6697 | CE Loss: 0.1200 | Epoch Time: 0h 14m 52s | Elapsed: 2h 27m 52s | Remaining: 4h 57m 36s\n"
     ]
    },
    {
     "name": "stderr",
     "output_type": "stream",
     "text": [
      "                                                                                               \r"
     ]
    },
    {
     "name": "stdout",
     "output_type": "stream",
     "text": [
      "Epoch 71/90 | CTC Loss: 0.6588 | CE Loss: 0.1147 | Epoch Time: 0h 14m 47s | Elapsed: 2h 42m 39s | Remaining: 4h 40m 54s\n"
     ]
    },
    {
     "name": "stderr",
     "output_type": "stream",
     "text": [
      "                                                                                               \r"
     ]
    },
    {
     "name": "stdout",
     "output_type": "stream",
     "text": [
      "Epoch 72/90 | CTC Loss: 0.6487 | CE Loss: 0.1112 | Epoch Time: 0h 14m 48s | Elapsed: 2h 57m 28s | Remaining: 4h 26m 40s\n"
     ]
    },
    {
     "name": "stderr",
     "output_type": "stream",
     "text": [
      "                                                                                               \r"
     ]
    },
    {
     "name": "stdout",
     "output_type": "stream",
     "text": [
      "Epoch 73/90 | CTC Loss: 0.6389 | CE Loss: 0.1074 | Epoch Time: 0h 14m 53s | Elapsed: 3h 12m 21s | Remaining: 4h 13m 10s\n"
     ]
    },
    {
     "name": "stderr",
     "output_type": "stream",
     "text": [
      "                                                                                               \r"
     ]
    },
    {
     "name": "stdout",
     "output_type": "stream",
     "text": [
      "Epoch 74/90 | CTC Loss: 0.6295 | CE Loss: 0.1051 | Epoch Time: 0h 14m 50s | Elapsed: 3h 27m 12s | Remaining: 3h 57m 35s\n"
     ]
    },
    {
     "name": "stderr",
     "output_type": "stream",
     "text": [
      "                                                                                               \r"
     ]
    },
    {
     "name": "stdout",
     "output_type": "stream",
     "text": [
      "Epoch 75/90 | CTC Loss: 0.6216 | CE Loss: 0.1017 | Epoch Time: 0h 14m 47s | Elapsed: 3h 42m 0s | Remaining: 3h 41m 56s\n"
     ]
    },
    {
     "name": "stderr",
     "output_type": "stream",
     "text": [
      "                                                                                               \r"
     ]
    },
    {
     "name": "stdout",
     "output_type": "stream",
     "text": [
      "Epoch 76/90 | CTC Loss: 0.6125 | CE Loss: 0.0985 | Epoch Time: 0h 14m 50s | Elapsed: 3h 56m 50s | Remaining: 3h 27m 42s\n"
     ]
    },
    {
     "name": "stderr",
     "output_type": "stream",
     "text": [
      "                                                                                               \r"
     ]
    },
    {
     "name": "stdout",
     "output_type": "stream",
     "text": [
      "Epoch 77/90 | CTC Loss: 0.6026 | CE Loss: 0.0956 | Epoch Time: 0h 14m 51s | Elapsed: 4h 11m 41s | Remaining: 3h 13m 4s\n"
     ]
    },
    {
     "name": "stderr",
     "output_type": "stream",
     "text": [
      "                                                                                               \r"
     ]
    },
    {
     "name": "stdout",
     "output_type": "stream",
     "text": [
      "Epoch 78/90 | CTC Loss: 0.5941 | CE Loss: 0.0920 | Epoch Time: 0h 14m 51s | Elapsed: 4h 26m 33s | Remaining: 2h 58m 14s\n"
     ]
    },
    {
     "name": "stderr",
     "output_type": "stream",
     "text": [
      "                                                                                               \r"
     ]
    },
    {
     "name": "stdout",
     "output_type": "stream",
     "text": [
      "Epoch 79/90 | CTC Loss: 0.5851 | CE Loss: 0.0889 | Epoch Time: 0h 14m 49s | Elapsed: 4h 41m 22s | Remaining: 2h 43m 8s\n"
     ]
    },
    {
     "name": "stderr",
     "output_type": "stream",
     "text": [
      "                                                                                               \r"
     ]
    },
    {
     "name": "stdout",
     "output_type": "stream",
     "text": [
      "Saved checkpoint to /kaggle/working/checkpoints/checkpoint_epoch_80.pt\n",
      "Epoch 80/90 | CTC Loss: 0.5766 | CE Loss: 0.0863 | Epoch Time: 0h 14m 52s | Elapsed: 4h 56m 15s | Remaining: 2h 28m 40s\n"
     ]
    },
    {
     "name": "stderr",
     "output_type": "stream",
     "text": [
      "                                                                                               \r"
     ]
    },
    {
     "name": "stdout",
     "output_type": "stream",
     "text": [
      "Epoch 81/90 | CTC Loss: 0.5692 | CE Loss: 0.0833 | Epoch Time: 0h 14m 48s | Elapsed: 5h 11m 3s | Remaining: 2h 13m 12s\n"
     ]
    },
    {
     "name": "stderr",
     "output_type": "stream",
     "text": [
      "                                                                                               \r"
     ]
    },
    {
     "name": "stdout",
     "output_type": "stream",
     "text": [
      "Epoch 82/90 | CTC Loss: 0.5600 | CE Loss: 0.0811 | Epoch Time: 0h 14m 52s | Elapsed: 5h 25m 55s | Remaining: 1h 58m 57s\n"
     ]
    },
    {
     "name": "stderr",
     "output_type": "stream",
     "text": [
      "                                                                                               \r"
     ]
    },
    {
     "name": "stdout",
     "output_type": "stream",
     "text": [
      "Epoch 83/90 | CTC Loss: 0.5533 | CE Loss: 0.0798 | Epoch Time: 0h 14m 48s | Elapsed: 5h 40m 43s | Remaining: 1h 43m 40s\n"
     ]
    },
    {
     "name": "stderr",
     "output_type": "stream",
     "text": [
      "                                                                                               \r"
     ]
    },
    {
     "name": "stdout",
     "output_type": "stream",
     "text": [
      "Epoch 84/90 | CTC Loss: 0.5442 | CE Loss: 0.0762 | Epoch Time: 0h 14m 49s | Elapsed: 5h 55m 33s | Remaining: 1h 28m 55s\n"
     ]
    },
    {
     "name": "stderr",
     "output_type": "stream",
     "text": [
      "                                                                                               \r"
     ]
    },
    {
     "name": "stdout",
     "output_type": "stream",
     "text": [
      "Epoch 85/90 | CTC Loss: 0.5376 | CE Loss: 0.0737 | Epoch Time: 0h 14m 49s | Elapsed: 6h 10m 22s | Remaining: 1h 14m 6s\n"
     ]
    },
    {
     "name": "stderr",
     "output_type": "stream",
     "text": [
      "                                                                                               \r"
     ]
    },
    {
     "name": "stdout",
     "output_type": "stream",
     "text": [
      "Epoch 86/90 | CTC Loss: 0.5300 | CE Loss: 0.0718 | Epoch Time: 0h 14m 51s | Elapsed: 6h 25m 13s | Remaining: 0h 59m 24s\n"
     ]
    },
    {
     "name": "stderr",
     "output_type": "stream",
     "text": [
      "                                                                                               \r"
     ]
    },
    {
     "name": "stdout",
     "output_type": "stream",
     "text": [
      "Epoch 87/90 | CTC Loss: 0.5225 | CE Loss: 0.0702 | Epoch Time: 0h 14m 49s | Elapsed: 6h 40m 2s | Remaining: 0h 44m 27s\n"
     ]
    },
    {
     "name": "stderr",
     "output_type": "stream",
     "text": [
      "                                                                                               \r"
     ]
    },
    {
     "name": "stdout",
     "output_type": "stream",
     "text": [
      "Epoch 88/90 | CTC Loss: 0.5146 | CE Loss: 0.0672 | Epoch Time: 0h 14m 52s | Elapsed: 6h 54m 55s | Remaining: 0h 29m 44s\n"
     ]
    },
    {
     "name": "stderr",
     "output_type": "stream",
     "text": [
      "                                                                                               \r"
     ]
    },
    {
     "name": "stdout",
     "output_type": "stream",
     "text": [
      "Epoch 89/90 | CTC Loss: 0.5079 | CE Loss: 0.0662 | Epoch Time: 0h 14m 52s | Elapsed: 7h 9m 47s | Remaining: 0h 14m 52s\n"
     ]
    },
    {
     "name": "stderr",
     "output_type": "stream",
     "text": [
      "                                                                                               \r"
     ]
    },
    {
     "name": "stdout",
     "output_type": "stream",
     "text": [
      "Saved checkpoint to /kaggle/working/checkpoints/checkpoint_epoch_90.pt\n",
      "Epoch 90/90 | CTC Loss: 0.5010 | CE Loss: 0.0642 | Epoch Time: 0h 14m 53s | Elapsed: 7h 24m 40s | Remaining: 0h 0m 0s\n"
     ]
    }
   ],
   "source": [
    "import time\n",
    "from tqdm import tqdm  # For progress bars\n",
    "import os\n",
    "\n",
    "# --- Training Loop with Time Estimation ---\n",
    "total_epochs = 90\n",
    "start_time = time.time()\n",
    "\n",
    "# Create checkpoint directory\n",
    "checkpoint_dir = \"/kaggle/working/checkpoints\"\n",
    "os.makedirs(checkpoint_dir, exist_ok=True)\n",
    "\n",
    "def save_checkpoint(epoch, model, optimizer, loss, path):\n",
    "    torch.save({\n",
    "        'epoch': epoch,\n",
    "        'model_state_dict': model.state_dict(),\n",
    "        'optimizer_state_dict': optimizer.state_dict(),\n",
    "        'loss': loss,\n",
    "    }, path)\n",
    "\n",
    "\n",
    "\n",
    "for epoch in range(start_epoch, total_epochs):\n",
    "    epoch_start_time = time.time()\n",
    "    model.train()\n",
    "    total_ctc_loss = 0\n",
    "    total_ce_loss = 0\n",
    "    \n",
    "    # Use tqdm for batch progress\n",
    "    batch_iterator = tqdm(dataloader, desc=f'Epoch {epoch+1}/{total_epochs}', leave=False)\n",
    "    \n",
    "    for mel_batch, mel_lengths, label_batch, label_lengths in batch_iterator:\n",
    "        mel_batch = mel_batch.to(device)\n",
    "        label_batch = label_batch.to(device)\n",
    "\n",
    "        optimizer.zero_grad()\n",
    "\n",
    "        # --- Forward ---\n",
    "        ctc_logits, decoder_logits = model(mel_batch, tgt_seq=label_batch)\n",
    "\n",
    "        # --- CTC Loss ---\n",
    "        ctc_input = ctc_logits.transpose(0, 1)\n",
    "        ctc_loss = ctc_loss_fn(ctc_input, label_batch, mel_lengths, label_lengths)\n",
    "\n",
    "        # --- Decoder (LM) Loss ---\n",
    "        decoder_targets = label_batch[:, 1:]\n",
    "        decoder_logits = decoder_logits.reshape(-1, vocab_size)\n",
    "        decoder_targets = decoder_targets.reshape(-1)\n",
    "        ce_loss = ce_loss_fn(decoder_logits, decoder_targets)\n",
    "\n",
    "        # Combine losses\n",
    "        loss = ctc_loss + ce_loss\n",
    "        loss.backward()\n",
    "        optimizer.step()\n",
    "\n",
    "        total_ctc_loss += ctc_loss.item()\n",
    "        total_ce_loss += ce_loss.item()\n",
    "        \n",
    "        # Update progress bar\n",
    "        batch_iterator.set_postfix({\n",
    "            'CTC Loss': f'{ctc_loss.item():.4f}',\n",
    "            'CE Loss': f'{ce_loss.item():.4f}'\n",
    "        })\n",
    "\n",
    "    # Save checkpoint every 10 epochs\n",
    "    if (epoch + 1) % 10 == 0:\n",
    "        checkpoint_path = f\"{checkpoint_dir}/checkpoint_epoch_{epoch+1}.pt\"\n",
    "        save_checkpoint(epoch+1, model, optimizer, loss, checkpoint_path)\n",
    "        print(f\"Saved checkpoint to {checkpoint_path}\")\n",
    "\n",
    "    \n",
    "    # Calculate time statistics\n",
    "    epoch_time = time.time() - epoch_start_time\n",
    "    elapsed_time = time.time() - start_time\n",
    "    remaining_time = (total_epochs - epoch - 1) * epoch_time\n",
    "    \n",
    "    \n",
    "    # Convert to readable format\n",
    "    def format_time(seconds):\n",
    "        hours = int(seconds // 3600)\n",
    "        minutes = int((seconds % 3600) // 60)\n",
    "        seconds = int(seconds % 60)\n",
    "        return f\"{hours}h {minutes}m {seconds}s\"\n",
    "    \n",
    "    print( f\"Epoch {epoch+1}/{total_epochs} | \"\n",
    "           f\"CTC Loss: {total_ctc_loss/len(dataloader):.4f} | \"\n",
    "           f\"CE Loss: {total_ce_loss/len(dataloader):.4f} | \"\n",
    "           f\"Epoch Time: {format_time(epoch_time)} | \"\n",
    "           f\"Elapsed: {format_time(elapsed_time)} | \"\n",
    "           f\"Remaining: {format_time(remaining_time)}\")"
   ]
  },
  {
   "cell_type": "code",
   "execution_count": 20,
   "id": "c06c7bc1",
   "metadata": {
    "execution": {
     "iopub.execute_input": "2025-05-12T22:42:16.023496Z",
     "iopub.status.busy": "2025-05-12T22:42:16.023226Z",
     "iopub.status.idle": "2025-05-12T22:42:16.123370Z",
     "shell.execute_reply": "2025-05-12T22:42:16.122516Z"
    },
    "papermill": {
     "duration": 0.701425,
     "end_time": "2025-05-12T22:42:16.124627",
     "exception": false,
     "start_time": "2025-05-12T22:42:15.423202",
     "status": "completed"
    },
    "tags": []
   },
   "outputs": [
    {
     "name": "stdout",
     "output_type": "stream",
     "text": [
      "Actual vs CTC vs Decoder Output:\n",
      "\n",
      "Example 1:\n",
      "Actual:   printing, in the only sense with which we are at present concerned, differs from most if not from all the arts and crafts represented in the exhibition\n",
      "CTC:      pprriiitttiinnnngng,, iiinttheee oonnnnllyyyt eeeennse  witthh   wwiiiiccchh  www arrrr aatttfeeeseeent cconnnseerrrrrrrrrrnnndt diiifoerrrrrss   fffrrommmmmmmmoooosssstttiinnnoofrrommm  aaallllll   thhee aaarrtttss nnn crraaaaaf  rrreeariisssennted  iin  ttheee aesiibbiiiioon, \n",
      "Decoder:  rinting, in the only sense,with weich we are at wresent concerned, differs from most in aot from all the arts and crifts representad in the axhibition\n",
      "\n",
      "Example 2:\n",
      "Actual:   in being comparatively modern.\n",
      "CTC:      innn bbeeeiinngg ccoommppaarrrrrrraatiivvellyy   mmooooodderrrrrnn.\n",
      "Decoder:  n being comparatively modern. ..'.. .........e......u.et.r...e...o::.ii...ll  l:r.ru:   el  :.omo.:::o:a.ooeaaea:o oo eeeerer:eaete eoaa aoaeeoeaeeeeo\n",
      "\n"
     ]
    }
   ],
   "source": [
    "import numpy as np\n",
    "\n",
    "def greedy_decode_ctc(log_probs, mel_lengths, tokenizer, blank_id=0):\n",
    "    \"\"\"Greedy decode from CTC log_probs (T, B, V)\"\"\"\n",
    "    _, predicted_ids = log_probs.max(dim=-1)  # [T, B]\n",
    "    decoded_preds = []\n",
    "    for i in range(predicted_ids.size(1)):  # For each sample\n",
    "        pred_ids = predicted_ids[:, i].cpu().numpy()\n",
    "        pred_ids = pred_ids[:mel_lengths[i]]\n",
    "        decoded_tokens = tokenizer.decode(pred_ids)\n",
    "        decoded_preds.append(decoded_tokens)\n",
    "    return decoded_preds\n",
    "\n",
    "\n",
    "def greedy_decode_decoder(decoder_logits, tokenizer):\n",
    "    \"\"\"Greedy decode from decoder logits [B, T, V]\"\"\"\n",
    "    pred_ids = decoder_logits.argmax(dim=-1)  # [B, T]\n",
    "    decoded_preds = []\n",
    "    for ids in pred_ids:\n",
    "        ids = ids.cpu().numpy()\n",
    "        # Stop at first padding (optional)\n",
    "        if 0 in ids:\n",
    "            ids = ids[:np.where(ids == 0)[0][0]]\n",
    "        decoded_preds.append(tokenizer.decode(ids))\n",
    "    return decoded_preds\n",
    "\n",
    "\n",
    "# --- Sample batch ---\n",
    "mel_batch, mel_lengths, label_batch, label_lengths = next(iter(small_loader))\n",
    "mel_batch = mel_batch.to(device)\n",
    "label_batch = label_batch.to(device)\n",
    "\n",
    "# --- Forward pass ---\n",
    "ctc_log_probs, decoder_logits = model(mel_batch, tgt_seq=label_batch)\n",
    "\n",
    "# Transpose CTC for decoding: [T, B, vocab]\n",
    "ctc_log_probs = ctc_log_probs.transpose(0, 1)\n",
    "\n",
    "# Decode both heads\n",
    "ctc_output = greedy_decode_ctc(ctc_log_probs, mel_lengths, tokenizer)\n",
    "decoder_output = greedy_decode_decoder(decoder_logits, tokenizer)\n",
    "\n",
    "# --- Print ---\n",
    "print(\"Actual vs CTC vs Decoder Output:\\n\")\n",
    "for i in range(len(ctc_output)):\n",
    "    actual = tokenizer.decode(label_batch[i].cpu().numpy())\n",
    "    print(f\"Example {i+1}:\")\n",
    "    print(f\"Actual:   {actual}\")\n",
    "    print(f\"CTC:      {ctc_output[i]}\")\n",
    "    print(f\"Decoder:  {decoder_output[i]}\")\n",
    "    print()"
   ]
  },
  {
   "cell_type": "code",
   "execution_count": 21,
   "id": "184260ce",
   "metadata": {
    "execution": {
     "iopub.execute_input": "2025-05-12T22:42:17.111818Z",
     "iopub.status.busy": "2025-05-12T22:42:17.111053Z",
     "iopub.status.idle": "2025-05-12T22:42:17.116274Z",
     "shell.execute_reply": "2025-05-12T22:42:17.115728Z"
    },
    "papermill": {
     "duration": 0.501848,
     "end_time": "2025-05-12T22:42:17.117268",
     "exception": false,
     "start_time": "2025-05-12T22:42:16.615420",
     "status": "completed"
    },
    "tags": []
   },
   "outputs": [],
   "source": [
    "def greedy_decode_ctc(log_probs, mel_lengths, tokenizer, blank_id=0):\n",
    "    \"\"\"Greedy decode from CTC log_probs (T, B, V) with proper blank removal and collapsing\"\"\"\n",
    "    _, predicted_ids = log_probs.max(dim=-1)  # [T, B]\n",
    "    decoded_preds = []\n",
    "    \n",
    "    for i in range(predicted_ids.size(1)):  # For each sample\n",
    "        pred_ids = predicted_ids[:mel_lengths[i], i].cpu().numpy()\n",
    "        \n",
    "        # CTC post-processing: remove blanks and collapse repeats\n",
    "        processed_ids = []\n",
    "        prev_char = blank_id\n",
    "        for char_id in pred_ids:\n",
    "            if char_id != blank_id:\n",
    "                if char_id != prev_char:\n",
    "                    processed_ids.append(char_id)\n",
    "            prev_char = char_id\n",
    "        \n",
    "        decoded_tokens = tokenizer.decode(processed_ids)\n",
    "        decoded_preds.append(decoded_tokens)\n",
    "    \n",
    "    return decoded_preds"
   ]
  },
  {
   "cell_type": "code",
   "execution_count": 22,
   "id": "21785ad6",
   "metadata": {
    "execution": {
     "iopub.execute_input": "2025-05-12T22:42:18.102991Z",
     "iopub.status.busy": "2025-05-12T22:42:18.102623Z",
     "iopub.status.idle": "2025-05-12T22:42:18.108252Z",
     "shell.execute_reply": "2025-05-12T22:42:18.107582Z"
    },
    "papermill": {
     "duration": 0.499717,
     "end_time": "2025-05-12T22:42:18.109321",
     "exception": false,
     "start_time": "2025-05-12T22:42:17.609604",
     "status": "completed"
    },
    "tags": []
   },
   "outputs": [],
   "source": [
    "def greedy_decode_decoder(decoder_logits, tokenizer, max_length=200):\n",
    "    \"\"\"Greedy decode from decoder logits [B, T, V] with proper length control\"\"\"\n",
    "    pred_ids = decoder_logits.argmax(dim=-1)  # [B, T]\n",
    "    decoded_preds = []\n",
    "    \n",
    "    for ids in pred_ids:\n",
    "        ids = ids.cpu().numpy()\n",
    "        \n",
    "        # Find the first padding token or stop at max_length\n",
    "        if 0 in ids:\n",
    "            end_pos = np.where(ids == 0)[0][0]\n",
    "            ids = ids[:end_pos]\n",
    "        else:\n",
    "            ids = ids[:max_length]\n",
    "        \n",
    "        decoded_tokens = tokenizer.decode(ids)\n",
    "        decoded_preds.append(decoded_tokens)\n",
    "    \n",
    "    return decoded_preds"
   ]
  },
  {
   "cell_type": "code",
   "execution_count": 23,
   "id": "9625ec98",
   "metadata": {
    "execution": {
     "iopub.execute_input": "2025-05-12T22:42:19.235280Z",
     "iopub.status.busy": "2025-05-12T22:42:19.234674Z",
     "iopub.status.idle": "2025-05-12T22:42:19.317215Z",
     "shell.execute_reply": "2025-05-12T22:42:19.316516Z"
    },
    "papermill": {
     "duration": 0.578601,
     "end_time": "2025-05-12T22:42:19.318336",
     "exception": false,
     "start_time": "2025-05-12T22:42:18.739735",
     "status": "completed"
    },
    "tags": []
   },
   "outputs": [
    {
     "name": "stdout",
     "output_type": "stream",
     "text": [
      "Actual vs Cleaned CTC vs Cleaned Decoder Output:\n",
      "\n",
      "Example 1:\n",
      "Actual:   printing, in the only sense with which we are at present concerned, differs from most if not from all the arts and crafts represented in the exhibition\n",
      "CTC:      prinnting, i  tee onlysense with which wereattpfresent conernd  tdiffoers fromosst if notfrom  all thyeartes dinn crafh  reprisentein the esubiion\n",
      "Decoder:  rinting, tn the only sensw with which we are at bresent concerned  differs from most fn not from all the arts fnd crifts represented in the exhibition\n",
      "--------------------------------------------------------------------------------\n",
      "Example 2:\n",
      "Actual:   in being comparatively modern.\n",
      "CTC:      in being comparativly moodern.\n",
      "Decoder:  n being comparatively modern. ....r.u.t..ururteeo..ue.eeeerrrl::.e,tratritleuuerraererer eeeaeaaa:a urreeieaoaaalaaeeeaeeeee aerrerre erteaarrarreteea\n",
      "--------------------------------------------------------------------------------\n"
     ]
    }
   ],
   "source": [
    "# --- Sample batch ---\n",
    "mel_batch, mel_lengths, label_batch, label_lengths = next(iter(small_loader))\n",
    "mel_batch = mel_batch.to(device)\n",
    "label_batch = label_batch.to(device)\n",
    "\n",
    "# --- Forward pass ---\n",
    "with torch.no_grad():\n",
    "    ctc_log_probs, decoder_logits = model(mel_batch, tgt_seq=label_batch)\n",
    "\n",
    "# Transpose CTC for decoding: [T, B, vocab]\n",
    "ctc_log_probs = ctc_log_probs.transpose(0, 1)\n",
    "\n",
    "# Decode both heads with improved functions\n",
    "ctc_output = greedy_decode_ctc(ctc_log_probs, mel_lengths, tokenizer)\n",
    "decoder_output = greedy_decode_decoder(decoder_logits, tokenizer)\n",
    "\n",
    "# --- Print ---\n",
    "print(\"Actual vs Cleaned CTC vs Cleaned Decoder Output:\\n\")\n",
    "for i in range(len(ctc_output)):\n",
    "    actual = tokenizer.decode(label_batch[i].cpu().numpy())\n",
    "    print(f\"Example {i+1}:\")\n",
    "    print(f\"Actual:   {actual}\")\n",
    "    print(f\"CTC:      {ctc_output[i]}\")\n",
    "    print(f\"Decoder:  {decoder_output[i]}\")\n",
    "    print(\"-\" * 80)"
   ]
  },
  {
   "cell_type": "code",
   "execution_count": 24,
   "id": "24b7aec2",
   "metadata": {
    "execution": {
     "iopub.execute_input": "2025-05-12T22:42:20.430943Z",
     "iopub.status.busy": "2025-05-12T22:42:20.430643Z",
     "iopub.status.idle": "2025-05-12T22:42:20.512403Z",
     "shell.execute_reply": "2025-05-12T22:42:20.511716Z"
    },
    "papermill": {
     "duration": 0.681891,
     "end_time": "2025-05-12T22:42:20.513505",
     "exception": false,
     "start_time": "2025-05-12T22:42:19.831614",
     "status": "completed"
    },
    "tags": []
   },
   "outputs": [
    {
     "name": "stdout",
     "output_type": "stream",
     "text": [
      "Actual vs Cleaned CTC vs Cleaned Decoder Output:\n",
      "\n",
      "Example 1:\n",
      "Actual:   printing, in the only sense with which we are at present concerned, differs from most if not from all the arts and crafts represented in the exhibition\n",
      "CTC:      pritn   itheonly sens with wihich wre atpre n concernd differs fromosttif  not from alll hy aars enratreresentie in the exibition\n",
      "Decoder:  rinting, in the only sense,with which we are at present concerned, differs from most df not from mll the arts and crafts represent d in the axhibition\n",
      "--------------------------------------------------------------------------------\n",
      "Example 2:\n",
      "Actual:   in being comparatively modern.\n",
      "CTC:      in beieing comparatively modern.\n",
      "Decoder:  n being comparatively modern. ....u.........e...e..u..au.u...:... .iieeel..aletaaaemileeile r au ea .eaaaaaeaeeeeeeeeeleeeeeoeeeeeeiteeleaereeeaereeee\n",
      "--------------------------------------------------------------------------------\n"
     ]
    }
   ],
   "source": [
    "# --- Sample batch ---\n",
    "mel_batch, mel_lengths, label_batch, label_lengths = next(iter(small_loader))\n",
    "mel_batch = mel_batch.to(device)\n",
    "label_batch = label_batch.to(device)\n",
    "\n",
    "# --- Forward pass ---\n",
    "with torch.no_grad():\n",
    "    ctc_log_probs, decoder_logits = model(mel_batch, tgt_seq=label_batch)\n",
    "\n",
    "# Transpose CTC for decoding: [T, B, vocab]\n",
    "ctc_log_probs = ctc_log_probs.transpose(0, 1)\n",
    "\n",
    "# Decode both heads with improved functions\n",
    "ctc_output = greedy_decode_ctc(ctc_log_probs, mel_lengths, tokenizer)\n",
    "decoder_output = greedy_decode_decoder(decoder_logits, tokenizer)\n",
    "\n",
    "# --- Print ---\n",
    "print(\"Actual vs Cleaned CTC vs Cleaned Decoder Output:\\n\")\n",
    "for i in range(len(ctc_output)):\n",
    "    actual = tokenizer.decode(label_batch[i].cpu().numpy())\n",
    "    print(f\"Example {i+1}:\")\n",
    "    print(f\"Actual:   {actual}\")\n",
    "    print(f\"CTC:      {ctc_output[i]}\")\n",
    "    print(f\"Decoder:  {decoder_output[i]}\")\n",
    "    print(\"-\" * 80)"
   ]
  }
 ],
 "metadata": {
  "kaggle": {
   "accelerator": "nvidiaTeslaT4",
   "dataSources": [
    {
     "datasetId": 7399219,
     "sourceId": 11784878,
     "sourceType": "datasetVersion"
    }
   ],
   "dockerImageVersionId": 31011,
   "isGpuEnabled": true,
   "isInternetEnabled": true,
   "language": "python",
   "sourceType": "notebook"
  },
  "kernelspec": {
   "display_name": "Python 3",
   "language": "python",
   "name": "python3"
  },
  "language_info": {
   "codemirror_mode": {
    "name": "ipython",
    "version": 3
   },
   "file_extension": ".py",
   "mimetype": "text/x-python",
   "name": "python",
   "nbconvert_exporter": "python",
   "pygments_lexer": "ipython3",
   "version": "3.11.11"
  },
  "papermill": {
   "default_parameters": {},
   "duration": 26969.336323,
   "end_time": "2025-05-12T22:42:24.276661",
   "environment_variables": {},
   "exception": null,
   "input_path": "__notebook__.ipynb",
   "output_path": "__notebook__.ipynb",
   "parameters": {},
   "start_time": "2025-05-12T15:12:54.940338",
   "version": "2.6.0"
  }
 },
 "nbformat": 4,
 "nbformat_minor": 5
}
